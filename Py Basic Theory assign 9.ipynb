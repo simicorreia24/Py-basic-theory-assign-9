{
 "cells": [
  {
   "cell_type": "markdown",
   "id": "2c97412b",
   "metadata": {},
   "source": [
    "## 1. To what does a relative path refer?"
   ]
  },
  {
   "cell_type": "code",
   "execution_count": 1,
   "id": "34339a36",
   "metadata": {},
   "outputs": [],
   "source": [
    "# A relative path refers to a location that is relative to a current directory.\n",
    "# Relative paths make use of two special symbols, a dot (.) and a double-dot (..), which translate into the current directory and the parent directory. \n",
    "# ... The current directory is sometimes referred to as the root directory."
   ]
  },
  {
   "cell_type": "markdown",
   "id": "7ee2344c",
   "metadata": {},
   "source": [
    "## 2. What does an absolute path start with your operating system?"
   ]
  },
  {
   "cell_type": "code",
   "execution_count": 2,
   "id": "185e50bf",
   "metadata": {},
   "outputs": [],
   "source": [
    "# Absolute path names always begin with the slash (/) symbol. Traces the path from the current directory through\n",
    "# its parent or its subdirectories and files. An absolute path name represents the complete name of a directory\n",
    "# or file from the /(root) directory downward."
   ]
  },
  {
   "cell_type": "markdown",
   "id": "7371a9f1",
   "metadata": {},
   "source": [
    "## 3. What do the functions os.getcwd() and os.chdir() do?"
   ]
  },
  {
   "cell_type": "code",
   "execution_count": 3,
   "id": "4c073978",
   "metadata": {},
   "outputs": [],
   "source": [
    "# getcwd() : CWD stands for Current Working Directory. This function allows you to see what your current\n",
    "# working directory is. chdir(\"path-to-dir\") : Short for CHange DIRectory, this function allows you to set\n",
    "# the current working directory to a path of your choice."
   ]
  },
  {
   "cell_type": "markdown",
   "id": "f690696e",
   "metadata": {},
   "source": [
    "## 4. What are the . and .. folders?"
   ]
  },
  {
   "cell_type": "code",
   "execution_count": 5,
   "id": "23ade066",
   "metadata": {},
   "outputs": [],
   "source": [
    "# . means the folder currently set for QDir, .. refers to the parent folder."
   ]
  },
  {
   "cell_type": "markdown",
   "id": "430432de",
   "metadata": {},
   "source": [
    "## 5. In C:\\bacon\\eggs\\spam.txt, which part is the dir name, and which part is the base name?"
   ]
  },
  {
   "cell_type": "code",
   "execution_count": 6,
   "id": "7ec4bf7f",
   "metadata": {},
   "outputs": [],
   "source": [
    "# C:\\bacon\\eggs is the dir name, while spam."
   ]
  },
  {
   "cell_type": "markdown",
   "id": "bc0e6025",
   "metadata": {},
   "source": [
    "## 6. What are the three “mode” arguments that can be passed to the open() function?"
   ]
  },
  {
   "cell_type": "code",
   "execution_count": 7,
   "id": "9519942e",
   "metadata": {},
   "outputs": [],
   "source": [
    "# r: open an existing file for a read operation.\n",
    "# w: open an existing file for a write operation. \n",
    "# a: open an existing file for append operation. "
   ]
  },
  {
   "cell_type": "markdown",
   "id": "6b6d9ded",
   "metadata": {},
   "source": [
    "## 7. What happens if an existing file is opened in write mode?"
   ]
  },
  {
   "cell_type": "code",
   "execution_count": 8,
   "id": "20f99f98",
   "metadata": {},
   "outputs": [],
   "source": [
    "# If the file is opened in write mode then existing data will be removed, \n",
    "# it also creates a file, if the file does not exist"
   ]
  },
  {
   "cell_type": "markdown",
   "id": "9262c562",
   "metadata": {},
   "source": [
    "## 8. How do you tell the difference between read() and readlines()?"
   ]
  },
  {
   "cell_type": "code",
   "execution_count": 9,
   "id": "7ce49893",
   "metadata": {},
   "outputs": [],
   "source": [
    "# read() reads all of the file's contents into a string, readline reads just a single line from the file."
   ]
  },
  {
   "cell_type": "markdown",
   "id": "9a75a102",
   "metadata": {},
   "source": [
    "## 9. What data structure does a shelf value resemble?"
   ]
  },
  {
   "cell_type": "code",
   "execution_count": null,
   "id": "67714b52",
   "metadata": {},
   "outputs": [],
   "source": [
    "# A shelf value resembles a dictionary value; it has keys and values, along with keys() and values() methods \n",
    "# that work similarly to the dictionary methods of the same names."
   ]
  }
 ],
 "metadata": {
  "kernelspec": {
   "display_name": "Python 3 (ipykernel)",
   "language": "python",
   "name": "python3"
  },
  "language_info": {
   "codemirror_mode": {
    "name": "ipython",
    "version": 3
   },
   "file_extension": ".py",
   "mimetype": "text/x-python",
   "name": "python",
   "nbconvert_exporter": "python",
   "pygments_lexer": "ipython3",
   "version": "3.9.7"
  }
 },
 "nbformat": 4,
 "nbformat_minor": 5
}
